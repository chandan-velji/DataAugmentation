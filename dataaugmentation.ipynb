{
 "cells": [
  {
   "cell_type": "code",
   "execution_count": 73,
   "id": "86f3cede",
   "metadata": {},
   "outputs": [],
   "source": [
    "from PIL import Image\n",
    "import matplotlib.pyplot as plt\n",
    "from torchvision import transforms\n",
    "import os\n",
    "import glob\n",
    "from pathlib import Path"
   ]
  },
  {
   "cell_type": "code",
   "execution_count": 113,
   "id": "f420f72e",
   "metadata": {},
   "outputs": [],
   "source": [
    "#Implementing color augmentaion"
   ]
  },
  {
   "cell_type": "code",
   "execution_count": 64,
   "id": "c741e413",
   "metadata": {},
   "outputs": [],
   "source": [
    "dir = r'D:\\DataExtraction\\dataset' # Enter Directory of all images  \n",
    "data_path = os.path.join(dir,'*g') \n",
    "files = sorted(glob.glob(data_path)) \n",
    "for f1 in files:\n",
    "    \n",
    "    img = PIL.Image.open(f1)\n",
    "    \n",
    "    #loader_transform1 = transforms.ColorJitter(brightness=0.4)\n",
    "    #img1 = loader_transform1(img)\n",
    "    #img1 = img1.save(format(Path(f1).name))\n",
    "\n",
    "# contrast\n",
    "    #loader_transform2 = transforms.ColorJitter(contrast=0.4)\n",
    "    #img2 = loader_transform2(img)\n",
    "    #img2 = img2.save(format(Path(f1).name))\n",
    "\n",
    "# saturation\n",
    "    loader_transform3 = transforms.ColorJitter(saturation=2.5)\n",
    "    img3 = loader_transform3(img)\n",
    "    img3 = img3.save(format(Path(f1).name))"
   ]
  },
  {
   "cell_type": "code",
   "execution_count": 112,
   "id": "bec20782",
   "metadata": {},
   "outputs": [],
   "source": [
    "#Changing file names in a folder"
   ]
  },
  {
   "cell_type": "code",
   "execution_count": 110,
   "id": "9ef3fdb6",
   "metadata": {},
   "outputs": [],
   "source": [
    "dir = r'D:\\DataExtraction\\contrast' # Enter Directory of all images  \n",
    "data_path = os.path.join(dir,'*.*') \n",
    "files = sorted(glob.glob(data_path)) \n",
    "for f1 in files:\n",
    "    pathname, extension = os.path.splitext(f1)\n",
    "    filename = pathname.split('\\\\')\n",
    "        os.rename(f1 , os.path.join(dir, filename[-1] + \"c\" + extension))"
   ]
  }
 ],
 "metadata": {
  "kernelspec": {
   "display_name": "Python 3",
   "language": "python",
   "name": "python3"
  },
  "language_info": {
   "codemirror_mode": {
    "name": "ipython",
    "version": 3
   },
   "file_extension": ".py",
   "mimetype": "text/x-python",
   "name": "python",
   "nbconvert_exporter": "python",
   "pygments_lexer": "ipython3",
   "version": "3.7.10"
  }
 },
 "nbformat": 4,
 "nbformat_minor": 5
}
